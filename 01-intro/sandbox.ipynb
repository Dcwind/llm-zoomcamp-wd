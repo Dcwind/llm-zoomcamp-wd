{
 "cells": [
  {
   "cell_type": "code",
   "execution_count": 1,
   "id": "0660bada-6720-4f59-a613-c5462625ee0a",
   "metadata": {},
   "outputs": [],
   "source": [
    "import openai"
   ]
  },
  {
   "cell_type": "code",
   "execution_count": 2,
   "id": "9bd29744-619b-475d-aa35-1cf0ebc9a664",
   "metadata": {},
   "outputs": [],
   "source": [
    "from openai import OpenAI"
   ]
  },
  {
   "cell_type": "code",
   "execution_count": 3,
   "id": "8c027b95-54eb-4723-9880-3fbd2c2e4dd4",
   "metadata": {},
   "outputs": [],
   "source": [
    "Client = OpenAI()"
   ]
  },
  {
   "cell_type": "code",
   "execution_count": 4,
   "id": "f65efca0-99d4-4189-8fa5-ac298fe3daad",
   "metadata": {},
   "outputs": [],
   "source": [
    "import os"
   ]
  },
  {
   "cell_type": "code",
   "execution_count": 6,
   "id": "62dada11-39ab-4496-9ea1-ea9b33f1df51",
   "metadata": {},
   "outputs": [],
   "source": [
    "# os.environ "
   ]
  },
  {
   "cell_type": "code",
   "execution_count": 11,
   "id": "904289ad-c31a-434c-8055-371136214fd5",
   "metadata": {},
   "outputs": [],
   "source": [
    "response = Client.chat.completions.create(\n",
    "    model='gpt-4o-mini',\n",
    "    messages=[{\"role\": \"user\", \"content\": \"is it too late to join the course?\"}]\n",
    ")"
   ]
  },
  {
   "cell_type": "code",
   "execution_count": 12,
   "id": "924e75e5-6fa2-4eae-b257-5864345cdd3d",
   "metadata": {},
   "outputs": [
    {
     "data": {
      "text/plain": [
       "ChatCompletion(id='chatcmpl-BiwziJgQwvVnvaL5Sh8D1fo75alFN', choices=[Choice(finish_reason='stop', index=0, logprobs=None, message=ChatCompletionMessage(content=\"It depends on the specific course and its enrollment policies. Some courses may have open enrollment periods, while others may have deadlines. I recommend checking the course's official website or contacting the course provider directly to find out if you can still join. If you need help with specific details about a course, feel free to share more information!\", refusal=None, role='assistant', annotations=[], audio=None, function_call=None, tool_calls=None))], created=1750052906, model='gpt-4o-mini-2024-07-18', object='chat.completion', service_tier='default', system_fingerprint='fp_34a54ae93c', usage=CompletionUsage(completion_tokens=66, prompt_tokens=16, total_tokens=82, completion_tokens_details=CompletionTokensDetails(accepted_prediction_tokens=0, audio_tokens=0, reasoning_tokens=0, rejected_prediction_tokens=0), prompt_tokens_details=PromptTokensDetails(audio_tokens=0, cached_tokens=0)))"
      ]
     },
     "execution_count": 12,
     "metadata": {},
     "output_type": "execute_result"
    }
   ],
   "source": [
    "# response"
   ]
  },
  {
   "cell_type": "code",
   "execution_count": 14,
   "id": "5a7331da-478d-4ca9-bcf2-2e44df4ee034",
   "metadata": {},
   "outputs": [
    {
     "data": {
      "text/plain": [
       "\"It depends on the specific course and its enrollment policies. Some courses may have open enrollment periods, while others may have deadlines. I recommend checking the course's official website or contacting the course provider directly to find out if you can still join. If you need help with specific details about a course, feel free to share more information!\""
      ]
     },
     "execution_count": 14,
     "metadata": {},
     "output_type": "execute_result"
    }
   ],
   "source": [
    "response.choices[0].message.content"
   ]
  },
  {
   "cell_type": "code",
   "execution_count": null,
   "id": "1e163985-98ef-4382-9790-d73240165314",
   "metadata": {},
   "outputs": [],
   "source": []
  }
 ],
 "metadata": {
  "kernelspec": {
   "display_name": "Python 3 (ipykernel)",
   "language": "python",
   "name": "python3"
  },
  "language_info": {
   "codemirror_mode": {
    "name": "ipython",
    "version": 3
   },
   "file_extension": ".py",
   "mimetype": "text/x-python",
   "name": "python",
   "nbconvert_exporter": "python",
   "pygments_lexer": "ipython3",
   "version": "3.12.1"
  }
 },
 "nbformat": 4,
 "nbformat_minor": 5
}
