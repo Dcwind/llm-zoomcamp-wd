{
 "cells": [
  {
   "cell_type": "code",
   "execution_count": 1,
   "id": "0bd8af9f",
   "metadata": {},
   "outputs": [
    {
     "name": "stdout",
     "output_type": "stream",
     "text": [
      "{\n",
      "  \"name\" : \"dbc01fa5e610\",\n",
      "  \"cluster_name\" : \"docker-cluster\",\n",
      "  \"cluster_uuid\" : \"WmPg6Q9wTdCeKDqq-DuXpA\",\n",
      "  \"version\" : {\n",
      "    \"number\" : \"8.17.6\",\n",
      "    \"build_flavor\" : \"default\",\n",
      "    \"build_type\" : \"docker\",\n",
      "    \"build_hash\" : \"dbcbbbd0bc4924cfeb28929dc05d82d662c527b7\",\n",
      "    \"build_date\" : \"2025-04-30T14:07:12.231372970Z\",\n",
      "    \"build_snapshot\" : false,\n",
      "    \"lucene_version\" : \"9.12.0\",\n",
      "    \"minimum_wire_compatibility_version\" : \"7.17.0\",\n",
      "    \"minimum_index_compatibility_version\" : \"7.0.0\"\n",
      "  },\n",
      "  \"tagline\" : \"You Know, for Search\"\n",
      "}\n"
     ]
    }
   ],
   "source": [
    "!curl localhost:9200"
   ]
  },
  {
   "cell_type": "code",
   "execution_count": 2,
   "id": "81cbeb90",
   "metadata": {},
   "outputs": [],
   "source": [
    "import requests \n",
    "\n",
    "docs_url = 'https://github.com/DataTalksClub/llm-zoomcamp/blob/main/01-intro/documents.json?raw=1'\n",
    "docs_response = requests.get(docs_url)\n",
    "documents_raw = docs_response.json()\n",
    "\n",
    "documents = []\n",
    "\n",
    "for course in documents_raw:\n",
    "    course_name = course['course']\n",
    "\n",
    "    for doc in course['documents']:\n",
    "        doc['course'] = course_name\n",
    "        documents.append(doc)"
   ]
  },
  {
   "cell_type": "code",
   "execution_count": 3,
   "id": "9ac68d38",
   "metadata": {},
   "outputs": [
    {
     "data": {
      "text/plain": [
       "{'text': \"The purpose of this document is to capture frequently asked technical questions\\nThe exact day and hour of the course will be 15th Jan 2024 at 17h00. The course will start with the first  “Office Hours'' live.1\\nSubscribe to course public Google Calendar (it works from Desktop only).\\nRegister before the course starts using this link.\\nJoin the course Telegram channel with announcements.\\nDon’t forget to register in DataTalks.Club's Slack and join the channel.\",\n",
       " 'section': 'General course-related questions',\n",
       " 'question': 'Course - When will the course start?',\n",
       " 'course': 'data-engineering-zoomcamp'}"
      ]
     },
     "execution_count": 3,
     "metadata": {},
     "output_type": "execute_result"
    }
   ],
   "source": [
    "documents[0]"
   ]
  },
  {
   "cell_type": "code",
   "execution_count": 4,
   "id": "c58e5fe1",
   "metadata": {},
   "outputs": [],
   "source": [
    "from elasticsearch import Elasticsearch"
   ]
  },
  {
   "cell_type": "code",
   "execution_count": 5,
   "id": "1cf31fc1",
   "metadata": {},
   "outputs": [],
   "source": [
    "es_client = Elasticsearch('http://localhost:9200') "
   ]
  },
  {
   "cell_type": "code",
   "execution_count": 6,
   "id": "1c95a71e",
   "metadata": {},
   "outputs": [
    {
     "data": {
      "text/plain": [
       "ObjectApiResponse({'acknowledged': True, 'shards_acknowledged': True, 'index': 'course-questions'})"
      ]
     },
     "execution_count": 6,
     "metadata": {},
     "output_type": "execute_result"
    }
   ],
   "source": [
    "index_settings = {\n",
    "    \"settings\": {\n",
    "        \"number_of_shards\": 1,\n",
    "        \"number_of_replicas\": 0\n",
    "    },\n",
    "    \"mappings\": {\n",
    "        \"properties\": {\n",
    "            \"text\": {\"type\": \"text\"},\n",
    "            \"section\": {\"type\": \"text\"},\n",
    "            \"question\": {\"type\": \"text\"},\n",
    "            \"course\": {\"type\": \"keyword\"} \n",
    "        }\n",
    "    }\n",
    "}\n",
    "\n",
    "index_name = \"course-questions\"\n",
    "\n",
    "es_client.indices.create(index=index_name, body=index_settings)"
   ]
  },
  {
   "cell_type": "code",
   "execution_count": 7,
   "id": "e98912bd",
   "metadata": {},
   "outputs": [
    {
     "name": "stderr",
     "output_type": "stream",
     "text": [
      "/usr/local/python/3.12.1/lib/python3.12/site-packages/tqdm/auto.py:21: TqdmWarning: IProgress not found. Please update jupyter and ipywidgets. See https://ipywidgets.readthedocs.io/en/stable/user_install.html\n",
      "  from .autonotebook import tqdm as notebook_tqdm\n",
      "  0%|          | 0/948 [00:00<?, ?it/s]"
     ]
    },
    {
     "name": "stderr",
     "output_type": "stream",
     "text": [
      "100%|██████████| 948/948 [00:05<00:00, 186.93it/s]\n"
     ]
    }
   ],
   "source": [
    "from tqdm.auto import tqdm\n",
    "for doc in tqdm(documents):\n",
    "    es_client.index(index=index_name, document=doc)\n"
   ]
  },
  {
   "cell_type": "code",
   "execution_count": 8,
   "id": "ba7a555e",
   "metadata": {},
   "outputs": [],
   "source": [
    "def elastic_search(query, filter_dict=None, with_score=False, size=5):\n",
    "    search_query = {\n",
    "        \"size\": size,\n",
    "        \"query\": {\n",
    "            \"bool\": {\n",
    "                \"must\": {\n",
    "                    \"multi_match\": {\n",
    "                        \"query\": query,\n",
    "                        \"fields\": [\"question^4\", \"text\"],\n",
    "                        \"type\": \"best_fields\"\n",
    "                    }\n",
    "                }\n",
    "            }\n",
    "        }\n",
    "    }\n",
    "\n",
    "    # Only add filter if filter_dict is provided\n",
    "    if filter_dict:\n",
    "        search_query[\"query\"][\"bool\"][\"filter\"] = filter_dict\n",
    "\n",
    "    response = es_client.search(index=index_name, body=search_query)\n",
    "    \n",
    "    result_docs = []\n",
    "    \n",
    "    for hit in response['hits']['hits']:\n",
    "        doc = hit['_source'].copy()\n",
    "        if with_score:\n",
    "            doc['score'] = round(hit['_score'], 2)\n",
    "        result_docs.append(doc)\n",
    "    \n",
    "    return result_docs"
   ]
  },
  {
   "cell_type": "code",
   "execution_count": 9,
   "id": "1dcbef36",
   "metadata": {},
   "outputs": [
    {
     "data": {
      "text/plain": [
       "[{'text': 'Launch the container image in interactive mode and overriding the entrypoint, so that it starts a bash command.\\ndocker run -it --entrypoint bash <image>\\nIf the container is already running, execute a command in the specific container:\\ndocker ps (find the container-id)\\ndocker exec -it <container-id> bash\\n(Marcos MJD)',\n",
       "  'section': '5. Deploying Machine Learning Models',\n",
       "  'question': 'How do I debug a docker container?',\n",
       "  'course': 'machine-learning-zoomcamp',\n",
       "  'score': 43.52},\n",
       " {'text': 'Deploy and Access the Kubernetes Dashboard\\nLuke',\n",
       "  'section': '10. Kubernetes and TensorFlow Serving',\n",
       "  'question': 'Kubernetes-dashboard',\n",
       "  'course': 'machine-learning-zoomcamp',\n",
       "  'score': 34.32},\n",
       " {'text': 'You can copy files from your local machine into a Docker container using the docker cp command. Here\\'s how to do it:\\nIn the Dockerfile, you can provide the folder containing the files that you want to copy over. The basic syntax is as follows:\\nCOPY [\"src/predict.py\", \"models/xgb_model.bin\", \"./\"]\\t\\t\\t\\t\\t\\t\\t\\t\\t\\t\\tGopakumar Gopinathan',\n",
       "  'section': '5. Deploying Machine Learning Models',\n",
       "  'question': 'How do I copy files from a different folder into docker container’s working directory?',\n",
       "  'course': 'machine-learning-zoomcamp',\n",
       "  'score': 33.18},\n",
       " {'text': 'Problem description:\\nI started a web-server in terminal (command window, powershell, etc.). How can I run another python script, which makes a request to this server?\\nSolution description:\\nJust open another terminal (command window, powershell, etc.) and run a python script.\\nAlena Kniazeva',\n",
       "  'section': '5. Deploying Machine Learning Models',\n",
       "  'question': 'How to run a script while a web-server is working?',\n",
       "  'course': 'machine-learning-zoomcamp',\n",
       "  'score': 32.71},\n",
       " {'text': \"Matplotlib has a cool method to annotate where you could provide an X,Y point and annotate with an arrow and text. For example this will show an arrow pointing to the x,y point optimal threshold.\\nplt.annotate(f'Optimal Threshold: {optimal_threshold:.2f}\\\\nOptimal F1 Score: {optimal_f1_score:.2f}',\\nxy=(optimal_threshold, optimal_f1_score),\\nxytext=(0.3, 0.5),\\ntextcoords='axes fraction',\\narrowprops=dict(facecolor='black', shrink=0.05))\\nQuinn Avila\",\n",
       "  'section': '4. Evaluation Metrics for Classification',\n",
       "  'question': 'How can I annotate a graph?',\n",
       "  'course': 'machine-learning-zoomcamp',\n",
       "  'score': 31.99}]"
      ]
     },
     "execution_count": 9,
     "metadata": {},
     "output_type": "execute_result"
    }
   ],
   "source": [
    "query = 'How do execute a command on a Kubernetes pod?'\n",
    "search_results = elastic_search(query,with_score=True)\n",
    "search_results"
   ]
  },
  {
   "cell_type": "code",
   "execution_count": 10,
   "id": "186c854b",
   "metadata": {},
   "outputs": [
    {
     "data": {
      "text/plain": [
       "[{'text': 'Launch the container image in interactive mode and overriding the entrypoint, so that it starts a bash command.\\ndocker run -it --entrypoint bash <image>\\nIf the container is already running, execute a command in the specific container:\\ndocker ps (find the container-id)\\ndocker exec -it <container-id> bash\\n(Marcos MJD)',\n",
       "  'section': '5. Deploying Machine Learning Models',\n",
       "  'question': 'How do I debug a docker container?',\n",
       "  'course': 'machine-learning-zoomcamp'},\n",
       " {'text': \"You can copy files from your local machine into a Docker container using the docker cp command. Here's how to do it:\\nTo copy a file or directory from your local machine into a running Docker container, you can use the `docker cp command`. The basic syntax is as follows:\\ndocker cp /path/to/local/file_or_directory container_id:/path/in/container\\nHrithik Kumar Advani\",\n",
       "  'section': '5. Deploying Machine Learning Models',\n",
       "  'question': 'How do I copy files from my local machine to docker container?',\n",
       "  'course': 'machine-learning-zoomcamp'},\n",
       " {'text': 'You can copy files from your local machine into a Docker container using the docker cp command. Here\\'s how to do it:\\nIn the Dockerfile, you can provide the folder containing the files that you want to copy over. The basic syntax is as follows:\\nCOPY [\"src/predict.py\", \"models/xgb_model.bin\", \"./\"]\\t\\t\\t\\t\\t\\t\\t\\t\\t\\t\\tGopakumar Gopinathan',\n",
       "  'section': '5. Deploying Machine Learning Models',\n",
       "  'question': 'How do I copy files from a different folder into docker container’s working directory?',\n",
       "  'course': 'machine-learning-zoomcamp'}]"
      ]
     },
     "execution_count": 10,
     "metadata": {},
     "output_type": "execute_result"
    }
   ],
   "source": [
    "query = 'How do copy a file to a Docker container?'\n",
    "filter_condition = {\n",
    "    \"term\": {\"course\": \"machine-learning-zoomcamp\"}\n",
    "}\n",
    "\n",
    "search_results = elastic_search(query,filter_dict=filter_condition,size=3)\n",
    "search_results"
   ]
  },
  {
   "cell_type": "code",
   "execution_count": 25,
   "id": "4b5cb7e6",
   "metadata": {},
   "outputs": [],
   "source": [
    "def build_prompt(query, search_results):\n",
    "    prompt_template = \"\"\"\n",
    "    You're a course teaching assistant. Answer the QUESTION based on the CONTEXT from the FAQ database.\n",
    "    Use only the facts from the CONTEXT when answering the QUESTION.\n",
    "\n",
    "    QUESTION: {question}\n",
    "\n",
    "    CONTEXT: \n",
    "    {context}\n",
    "    \"\"\".strip()\n",
    "\n",
    "    context = \"\"\n",
    "    \n",
    "    for doc in search_results:\n",
    "        context = context + f\"{doc}\\n\\n\"\n",
    "    \n",
    "    prompt = prompt_template.format(question=query, context=context).strip()\n",
    "    return prompt"
   ]
  },
  {
   "cell_type": "code",
   "execution_count": 26,
   "id": "9be1108d",
   "metadata": {},
   "outputs": [
    {
     "data": {
      "text/plain": [
       "1818"
      ]
     },
     "execution_count": 26,
     "metadata": {},
     "output_type": "execute_result"
    }
   ],
   "source": [
    "prompt = build_prompt(query, search_results)\n",
    "len(prompt) "
   ]
  },
  {
   "cell_type": "code",
   "execution_count": 27,
   "id": "57cdb87b",
   "metadata": {},
   "outputs": [
    {
     "name": "stdout",
     "output_type": "stream",
     "text": [
      "Token count: 425\n"
     ]
    }
   ],
   "source": [
    "import tiktoken\n",
    "encoding = tiktoken.encoding_for_model(\"gpt-4o\")\n",
    "\n",
    "tokens = encoding.encode(prompt)\n",
    "\n",
    "print(f\"Token count: {len(tokens)}\")"
   ]
  },
  {
   "cell_type": "code",
   "execution_count": 28,
   "id": "e85e1c01",
   "metadata": {},
   "outputs": [
    {
     "name": "stdout",
     "output_type": "stream",
     "text": [
      "[63842, 261, 4165, 14029, 29186, 13, 30985, 290, 150339, 4122, 402, 290, 31810, 8099, 591, 290, 40251, 7862, 558, 271, 7649, 1606, 290, 19719, 591, 290, 31810, 8099, 1261, 55959, 290, 150339, 364, 271, 150339, 25, 3253, 621, 5150, 261, 1974, 316, 261, 91238, 9282, 1715, 271, 31810, 8099, 25, 793, 271, 11881, 919, 2337, 461, 35423, 290, 9282, 3621, 306, 25383, 6766, 326, 151187, 290, 7251, 4859, 11, 813, 484, 480, 13217, 261, 38615, 6348, 15043, 301, 19940, 2461, 533, 278, 2230, 7962, 4859, 38615, 464, 3365, 16656, 77, 3335, 290, 9282, 382, 4279, 6788, 11, 15792, 261, 6348, 306, 290, 4857, 9282, 16008, 301, 19940, 10942, 350, 6555, 290, 9282, 26240, 23428, 301, 19940, 25398, 533, 278, 464, 6896, 26240, 29, 38615, 3392, 6103, 277, 10732, 391, 79771, 42080, 461, 6471, 2337, 461, 20, 13, 140211, 289, 19121, 25392, 50258, 787, 461, 14921, 2337, 461, 5299, 621, 357, 15199, 261, 62275, 9282, 112976, 461, 21960, 2337, 461, 48082, 92452, 12, 32155, 29586, 177722, 40200, 919, 2337, 392, 3575, 665, 5150, 6291, 591, 634, 2698, 7342, 1511, 261, 91238, 9282, 2360, 290, 62275, 27776, 6348, 13, 44257, 1495, 316, 621, 480, 16008, 77, 1385, 5150, 261, 1974, 503, 12552, 591, 634, 2698, 7342, 1511, 261, 6788, 91238, 9282, 11, 481, 665, 1199, 290, 2700, 68923, 27776, 6348, 62102, 623, 9439, 45440, 382, 472, 18183, 16008, 301, 19940, 27776, 820, 4189, 72231, 52214, 51766, 15400, 35850, 9282, 1537, 27975, 4189, 26985, 190543, 3392, 106096, 437, 507, 70737, 15241, 3048, 672, 461, 6471, 2337, 461, 20, 13, 140211, 289, 19121, 25392, 50258, 787, 461, 14921, 2337, 461, 5299, 621, 357, 5150, 6291, 591, 922, 2698, 7342, 316, 62275, 9282, 112976, 461, 21960, 2337, 461, 48082, 92452, 12, 32155, 29586, 177722, 40200, 919, 2337, 461, 3575, 665, 5150, 6291, 591, 634, 2698, 7342, 1511, 261, 91238, 9282, 2360, 290, 62275, 27776, 6348, 13, 7306, 19780, 82, 1495, 316, 621, 480, 16008, 77, 637, 290, 91238, 2318, 11, 481, 665, 3587, 290, 15610, 15683, 290, 6291, 484, 481, 1682, 316, 5150, 1072, 13, 623, 9439, 45440, 382, 472, 18183, 16008, 77, 128701, 9129, 7205, 8138, 21369, 17311, 672, 392, 13123, 22739, 9320, 10928, 69422, 672, 9633, 2601, 59, 83, 10229, 10229, 10229, 10229, 10229, 10229, 10229, 10229, 10229, 10229, 38, 167296, 30463, 499, 137058, 22064, 787, 461, 6471, 2337, 461, 20, 13, 140211, 289, 19121, 25392, 50258, 787, 461, 14921, 2337, 461, 5299, 621, 357, 5150, 6291, 591, 261, 2647, 15610, 1511, 62275, 9282, 802, 4113, 12552, 112976, 461, 21960, 2337, 461, 48082, 92452, 12, 32155, 29586, 17352]\n",
      "[b\"You're\", b' a', b' course', b' teaching', b' assistant', b'.', b' Answer', b' the', b' QUESTION', b' based', b' on', b' the', b' CONT', b'EXT', b' from', b' the', b' FAQ', b' database', b'.\\n', b'   ', b' Use', b' only', b' the', b' facts', b' from', b' the', b' CONT', b'EXT', b' when', b' answering', b' the', b' QUESTION', b'.\\n\\n', b'   ', b' QUESTION', b':', b' How', b' do', b' copy', b' a', b' file', b' to', b' a', b' Docker', b' container', b'?\\n\\n', b'   ', b' CONT', b'EXT', b':', b' \\n', b'   ', b\" {'\", b'text', b\"':\", b\" '\", b'Launch', b' the', b' container', b' image', b' in', b' interactive', b' mode', b' and', b' overriding', b' the', b' entry', b'point', b',', b' so', b' that', b' it', b' starts', b' a', b' bash', b' command', b'.\\\\', b'nd', b'ocker', b' run', b' -', b'it', b' --', b'entry', b'point', b' bash', b' <', b'image', b'>\\\\', b'n', b'If', b' the', b' container', b' is', b' already', b' running', b',', b' execute', b' a', b' command', b' in', b' the', b' specific', b' container', b':\\\\', b'nd', b'ocker', b' ps', b' (', b'find', b' the', b' container', b'-id', b')\\\\', b'nd', b'ocker', b' exec', b' -', b'it', b' <', b'container', b'-id', b'>', b' bash', b'\\\\n', b'(M', b'ar', b'cos', b' M', b'JD', b\")',\", b\" '\", b'section', b\"':\", b\" '\", b'5', b'.', b' Deploy', b'ing', b' Machine', b' Learning', b' Models', b\"',\", b\" '\", b'question', b\"':\", b\" '\", b'How', b' do', b' I', b' debug', b' a', b' docker', b' container', b\"?',\", b\" '\", b'course', b\"':\", b\" '\", b'machine', b'-learning', b'-', b'zoom', b'camp', b\"'}\\n\\n\", b\"{'\", b'text', b\"':\", b' \"', b'You', b' can', b' copy', b' files', b' from', b' your', b' local', b' machine', b' into', b' a', b' Docker', b' container', b' using', b' the', b' docker', b' cp', b' command', b'.', b\" Here's\", b' how', b' to', b' do', b' it', b':\\\\', b'n', b'To', b' copy', b' a', b' file', b' or', b' directory', b' from', b' your', b' local', b' machine', b' into', b' a', b' running', b' Docker', b' container', b',', b' you', b' can', b' use', b' the', b' `', b'docker', b' cp', b' command', b'`.', b' The', b' basic', b' syntax', b' is', b' as', b' follows', b':\\\\', b'nd', b'ocker', b' cp', b' /', b'path', b'/to', b'/local', b'/file', b'_or', b'_directory', b' container', b'_id', b':/', b'path', b'/in', b'/container', b'\\\\n', b'Hr', b'ith', b'ik', b' Kumar', b' Adv', b'ani', b'\",', b\" '\", b'section', b\"':\", b\" '\", b'5', b'.', b' Deploy', b'ing', b' Machine', b' Learning', b' Models', b\"',\", b\" '\", b'question', b\"':\", b\" '\", b'How', b' do', b' I', b' copy', b' files', b' from', b' my', b' local', b' machine', b' to', b' docker', b' container', b\"?',\", b\" '\", b'course', b\"':\", b\" '\", b'machine', b'-learning', b'-', b'zoom', b'camp', b\"'}\\n\\n\", b\"{'\", b'text', b\"':\", b\" '\", b'You', b' can', b' copy', b' files', b' from', b' your', b' local', b' machine', b' into', b' a', b' Docker', b' container', b' using', b' the', b' docker', b' cp', b' command', b'.', b' Here', b\"\\\\'\", b's', b' how', b' to', b' do', b' it', b':\\\\', b'n', b'In', b' the', b' Docker', b'file', b',', b' you', b' can', b' provide', b' the', b' folder', b' containing', b' the', b' files', b' that', b' you', b' want', b' to', b' copy', b' over', b'.', b' The', b' basic', b' syntax', b' is', b' as', b' follows', b':\\\\', b'n', b'COPY', b' [\"', b'src', b'/p', b'redict', b'.py', b'\",', b' \"', b'models', b'/x', b'gb', b'_model', b'.bin', b'\",', b' \"./', b'\"]', b'\\\\', b't', b'\\\\t', b'\\\\t', b'\\\\t', b'\\\\t', b'\\\\t', b'\\\\t', b'\\\\t', b'\\\\t', b'\\\\t', b'\\\\t', b'G', b'opak', b'umar', b' G', b'opin', b'athan', b\"',\", b\" '\", b'section', b\"':\", b\" '\", b'5', b'.', b' Deploy', b'ing', b' Machine', b' Learning', b' Models', b\"',\", b\" '\", b'question', b\"':\", b\" '\", b'How', b' do', b' I', b' copy', b' files', b' from', b' a', b' different', b' folder', b' into', b' docker', b' container', b'\\xe2\\x80\\x99s', b' working', b' directory', b\"?',\", b\" '\", b'course', b\"':\", b\" '\", b'machine', b'-learning', b'-', b'zoom', b'camp', b\"'}\"]\n"
     ]
    }
   ],
   "source": [
    "print(tokens)  # List of token IDs\n",
    "print([encoding.decode_single_token_bytes(t) for t in tokens])  # Each token as bytes"
   ]
  }
 ],
 "metadata": {
  "kernelspec": {
   "display_name": "Python 3",
   "language": "python",
   "name": "python3"
  },
  "language_info": {
   "codemirror_mode": {
    "name": "ipython",
    "version": 3
   },
   "file_extension": ".py",
   "mimetype": "text/x-python",
   "name": "python",
   "nbconvert_exporter": "python",
   "pygments_lexer": "ipython3",
   "version": "3.12.1"
  }
 },
 "nbformat": 4,
 "nbformat_minor": 5
}
